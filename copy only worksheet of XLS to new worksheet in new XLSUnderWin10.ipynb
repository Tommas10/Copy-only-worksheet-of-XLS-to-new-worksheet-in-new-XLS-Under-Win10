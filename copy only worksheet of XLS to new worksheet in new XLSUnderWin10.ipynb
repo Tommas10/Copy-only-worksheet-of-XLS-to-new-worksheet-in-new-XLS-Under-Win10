{
 "cells": [
  {
   "cell_type": "code",
   "execution_count": null,
   "metadata": {},
   "outputs": [],
   "source": [
    "#This is small auto Python script file to copying only worksheet of XLS to new worksheet in new XLS. Under WIn10 with Jupyter notebook.\n",
    "#Created by Tommas Huang \n",
    "#Created date: 2020-03-08\n",
    "\n",
    "#You may need to install the additional plugin depending on which filetype you're working with: pip install pyexcel pyexcel-xls\n",
    "conda update -n base -c defaults conda\n",
    "conda install -c conda-forge pyexcel \n",
    "conda install -c conda-forge/label/gcc7 pyexcel \n",
    "conda install -c conda-forge/label/cf201901 pyexcel \n",
    "pip install pyexcel pyexcel-xls"
   ]
  },
  {
   "cell_type": "code",
   "execution_count": null,
   "metadata": {},
   "outputs": [],
   "source": [
    "#pyexcel provides one application programming interface to read, manipulate and write data in various excel formats.\n",
    "import pyexcel as pe\n",
    "\n",
    "#Save output-book path.\n",
    "outputbook = r\"C:\\Users\\TommasHuang\\Documents\\CopyingonlyworksheetofXLStonewworksheetinnewXLS\\merged.xls\"\n",
    "#input-books is a dictionary mapping of the workbooks you wish to read in against their sheet.\n",
    "inputbooks = {\n",
    "  r\"C:\\Users\\TommasHuang\\Documents\\CopyingonlyworksheetofXLStonewworksheetinnewXLS\\test1.xls\" : 'lab',\n",
    "  r\"C:\\Users\\TommasHuang\\Documents\\CopyingonlyworksheetofXLStonewworksheetinnewXLS\\test2.xls\" : 'drugs',\n",
    "  r\"C:\\Users\\TommasHuang\\Documents\\CopyingonlyworksheetofXLStonewworksheetinnewXLS\\test3.xls\" : 'drugs2',\n",
    "}\n",
    "\n",
    "merged_book = None\n",
    "for book, sheet in inputbooks.items():\n",
    "#using .items() instead .iteritems() worked\n",
    "#using inputbooks.items(): instead inputbooks.iteritems():\n",
    "  wb = pe.get_book(file_name=book)\n",
    "  if merged_book is None:\n",
    "    merged_book = wb[sheet]\n",
    "  else:\n",
    "    merged_book = merged_book + wb[sheet]\n",
    "    \n",
    "merged_book.save_as(outputbook)"
   ]
  },
  {
   "cell_type": "code",
   "execution_count": null,
   "metadata": {},
   "outputs": [],
   "source": []
  },
  {
   "cell_type": "code",
   "execution_count": null,
   "metadata": {},
   "outputs": [],
   "source": []
  },
  {
   "cell_type": "code",
   "execution_count": null,
   "metadata": {},
   "outputs": [],
   "source": []
  }
 ],
 "metadata": {
  "kernelspec": {
   "display_name": "Python 3",
   "language": "python",
   "name": "python3"
  },
  "language_info": {
   "codemirror_mode": {
    "name": "ipython",
    "version": 3
   },
   "file_extension": ".py",
   "mimetype": "text/x-python",
   "name": "python",
   "nbconvert_exporter": "python",
   "pygments_lexer": "ipython3",
   "version": "3.7.3"
  }
 },
 "nbformat": 4,
 "nbformat_minor": 2
}
